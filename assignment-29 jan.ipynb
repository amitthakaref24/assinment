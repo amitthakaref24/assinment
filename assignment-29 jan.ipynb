{
 "cells": [
  {
   "cell_type": "code",
   "execution_count": 16,
   "id": "326a18b9-565c-45ce-a524-160b044878a6",
   "metadata": {},
   "outputs": [],
   "source": [
    "answer1 = Python was developed by Guido van Rossum"
   ]
  },
  {
   "cell_type": "code",
   "execution_count": 4,
   "id": "12b15dfd-4173-45ef-b734-4c2bd125bf5e",
   "metadata": {},
   "outputs": [],
   "source": [
    "answer2= Object oriented programming and structure programming type program does supported by Python"
   ]
  },
  {
   "cell_type": "code",
   "execution_count": 5,
   "id": "6186ae5f-f8fa-440e-9fe1-511b1bd60a59",
   "metadata": {},
   "outputs": [],
   "source": [
    "answer3= Yes Python is case sensitive when dealing with identifiers"
   ]
  },
  {
   "cell_type": "code",
   "execution_count": 6,
   "id": "8193c93e-07a1-4d5e-8ce1-4b8d4137fdf8",
   "metadata": {},
   "outputs": [],
   "source": [
    "answer4= .py, .pyc, .pyd, .pyo, pyz thsese are extension of the python file"
   ]
  },
  {
   "cell_type": "code",
   "execution_count": 7,
   "id": "0835e4e9-6418-488f-94e1-9514f5f324c0",
   "metadata": {},
   "outputs": [],
   "source": [
    "answer5= Python is an interpreted language"
   ]
  },
  {
   "cell_type": "code",
   "execution_count": 8,
   "id": "0add1805-b099-495a-8068-401d1ee995a6",
   "metadata": {},
   "outputs": [],
   "source": [
    "answer6= a module, a function body, and a class defination"
   ]
  },
  {
   "cell_type": "code",
   "execution_count": 9,
   "id": "8c78b5eb-df5b-430f-a4c9-642ece078f21",
   "metadata": {},
   "outputs": [],
   "source": [
    "asnwer7= (#) character is used to give single line comment "
   ]
  },
  {
   "cell_type": "code",
   "execution_count": 11,
   "id": "5c5f768f-491a-4b96-9a28-1418ee948fc9",
   "metadata": {},
   "outputs": [],
   "source": [
    "answer8= using sys. version method, using python_version() method, using python-V command"
   ]
  },
  {
   "cell_type": "code",
   "execution_count": 12,
   "id": "39664564-9dd5-4e9d-b58d-3da5e4923a79",
   "metadata": {},
   "outputs": [],
   "source": [
    "answer9= lambda"
   ]
  },
  {
   "cell_type": "code",
   "execution_count": 13,
   "id": "c339a31c-cd4a-40c9-a74c-25be8452c399",
   "metadata": {},
   "outputs": [],
   "source": [
    "nswer10 = The standard package manager for python is pip. It allows, you to install and manage packages that arent part of\n",
    "         the Python standard library\n"
   ]
  },
  {
   "cell_type": "code",
   "execution_count": 14,
   "id": "964f95c5-63a4-4da1-9cde-1c1b2dbc81e6",
   "metadata": {},
   "outputs": [],
   "source": [
    "answer11= Print() function, type() function, input() function,"
   ]
  },
  {
   "cell_type": "code",
   "execution_count": 17,
   "id": "f64ebb2b-31e7-4e8b-91d5-14c7436f724f",
   "metadata": {},
   "outputs": [],
   "source": [
    "answer12= An identifier can have maximum length of 79 characters"
   ]
  },
  {
   "cell_type": "code",
   "execution_count": 18,
   "id": "7b3db57c-6ce8-476b-86f4-ff4372dc12cc",
   "metadata": {},
   "outputs": [],
   "source": [
    "answer13= Large developer community, Extensive libraries, write less and do more, portability, wide range of cases"
   ]
  },
  {
   "cell_type": "code",
   "execution_count": 19,
   "id": "5ddf8f69-0e25-4e36-b322-5d4c0ae4da5f",
   "metadata": {},
   "outputs": [],
   "source": [
    "answer14= Memoery management in Python involves a private heap containing all python objects and data structure."
   ]
  },
  {
   "cell_type": "code",
   "execution_count": 20,
   "id": "eb8f42f4-8d0b-48e8-8962-a9f92c1dbdbd",
   "metadata": {},
   "outputs": [],
   "source": [
    "answer15= we can install python from www.python.org After installing python using tge following command on command\n",
    "prompt: cmd_python,Then go to advance system and add new variableand name it as PYTHON_NAME and paste the copied path.Then\n",
    "look for the path variable, select its valvue and select edit add a semicolon towards the end of the value if its not present\n",
    "and then type %PYTHON_HOME%"
   ]
  },
  {
   "cell_type": "code",
   "execution_count": 21,
   "id": "55e08231-b258-41f8-a683-b61a32383eb4",
   "metadata": {},
   "outputs": [],
   "source": [
    "answer= The indentation in Pythonis very important. Python uses indentation to indentation to indicate a block of code"
   ]
  }
 ],
 "metadata": {
  "kernelspec": {
   "display_name": "Python 3 (ipykernel)",
   "language": "python",
   "name": "python3"
  },
  "language_info": {
   "codemirror_mode": {
    "name": "ipython",
    "version": 3
   },
   "file_extension": ".py",
   "mimetype": "text/x-python",
   "name": "python",
   "nbconvert_exporter": "python",
   "pygments_lexer": "ipython3",
   "version": "3.10.8"
  }
 },
 "nbformat": 4,
 "nbformat_minor": 5
}
