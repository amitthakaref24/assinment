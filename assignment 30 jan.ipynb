{
 "cells": [
  {
   "cell_type": "code",
   "execution_count": 2,
   "id": "8fa4d1ce-b0d3-424e-9d99-1be39940e470",
   "metadata": {},
   "outputs": [],
   "source": [
    "Quation 1. Write a program to accept percentage from the user and display the grade according to tha faiiawing criteria:\n",
    "Marks                 Grade\n",
    ">90                     A\n",
    ">80 and <=90            B\n",
    ">=60 and <=80           C\n",
    "below 60                D\n",
    "\t"
   ]
  },
  {
   "cell_type": "code",
   "execution_count": null,
   "id": "24b414f2-6c4e-4acd-88df-3d62ea8f7648",
   "metadata": {},
   "outputs": [],
   "source": [
    "#Answer\n",
    "marks = int(input(\"enter your marks\"))\n",
    "if marks >90 :\n",
    "    print(\"Grade A\")\n",
    "if marks >80 and marks <=90 :\n",
    "    print(\"Grade B\")\n",
    "if marks >=60 and marks <=80:\n",
    "    print(\"Grade C\")\n",
    "if marks <60 :\n",
    "    print(\"Grade D\")\n"
   ]
  },
  {
   "cell_type": "code",
   "execution_count": null,
   "id": "4aa5171d-8b9f-4dcc-9172-cb523d509f7a",
   "metadata": {},
   "outputs": [],
   "source": [
    " Quastion 2.Write a program to accept the cost price of a bike and display the road tax to be paid according to the followin\n",
    "    criteria:\n",
    "        \n",
    "    Tax                           Cost Price(IN Rs)\n",
    "    15%                           >10000\n",
    "    10%                           >50000 and <= 100000          \n",
    "     5%                           <= 50000"
   ]
  },
  {
   "cell_type": "code",
   "execution_count": null,
   "id": "68825f74-4196-4dff-a6fa-4d0abe820654",
   "metadata": {},
   "outputs": [],
   "source": [
    "#Answer\n",
    "Tax = 0\n",
    "Price=int(input(\"enter price of bike\"))\n",
    "if Price>100000:\n",
    "    Tax=15/100*Price\n",
    "if Price >50000 and Price <= 100000:\n",
    "    Tax=10/100*Price\n",
    "else:\n",
    "    Tax=5/100*Price\n",
    "    print(\"Tax to be paid\", Tax)"
   ]
  },
  {
   "cell_type": "code",
   "execution_count": null,
   "id": "1c3d5d45-738a-4fce-838e-d979e02a88bb",
   "metadata": {},
   "outputs": [],
   "source": [
    "Quation 3. Accept any city from the user and display mouments of that city\n",
    "\n",
    "         City                        Monument\n",
    "   \n",
    "        Delhi                         Red Fort\n",
    "        Agra                          Taj Mahal\n",
    "        Jaipur                        Jai Mahal\n",
    "    \n"
   ]
  },
  {
   "cell_type": "code",
   "execution_count": null,
   "id": "6d4f9e9e-0e5d-4927-92a0-ca658b44f976",
   "metadata": {},
   "outputs": [],
   "source": [
    "#Answer\n",
    "City=input(\"Enter name of the City\")\n",
    "if City==\"Delhi\":\n",
    "    print(\"Monument: Red Fort\")\n",
    "if City==\"Agra\":\n",
    "    print(\"Monument: Taj Mahal\")\n",
    "elif City==\"Jaipur\":\n",
    "    print(\"Monument: Jai Mahal\")"
   ]
  },
  {
   "cell_type": "code",
   "execution_count": null,
   "id": "ff6ce254-9154-45fd-b33f-a89fb9d9d6f6",
   "metadata": {},
   "outputs": [],
   "source": [
    "Q4.Check how many times a given number can be divided by 3 before it is less than or equal to 10"
   ]
  },
  {
   "cell_type": "code",
   "execution_count": 1,
   "id": "01769d50-e704-483d-9ccf-53c2b5baeacb",
   "metadata": {},
   "outputs": [
    {
     "name": "stdout",
     "output_type": "stream",
     "text": [
      "Total iteration required 3\n"
     ]
    }
   ],
   "source": [
    "#Answer\n",
    "count=0\n",
    "number=180\n",
    "while number > 10:\n",
    "    number = number/3\n",
    "    count=count+1\n",
    "print('Total iteration required', count)"
   ]
  },
  {
   "cell_type": "code",
   "execution_count": null,
   "id": "07c5977f-0ea4-437e-a74b-17398e679bf7",
   "metadata": {},
   "outputs": [],
   "source": [
    "Q5. Why and When Use While Loop in Python give a detailed description with example?"
   ]
  },
  {
   "cell_type": "code",
   "execution_count": 3,
   "id": "919020e0-44b6-4a2e-aa7d-e129e5d7c020",
   "metadata": {},
   "outputs": [],
   "source": [
    "#Answer\n",
    "While loop is used to run a block code until a certain condition is met. A while loop evaluates the condition. \n",
    "If the condition evaluates to True , the code inside the while loop is executed. When you dont know the number of \n",
    "iteration ahead of time.\n",
    "Example:\n",
    "\n",
    "# program to display numbers from 1 to 5\n",
    "\n",
    "# initialize the variable\n",
    "i = 1\n",
    "n = 5\n",
    "\n",
    "# while loop from i = 1 to 5\n",
    "while i <= n:\n",
    "    print(i)\n",
    "    i = i + 1\n"
   ]
  },
  {
   "cell_type": "code",
   "execution_count": null,
   "id": "e48cd2f2-04fb-4271-84d4-1747d4d6d4ae",
   "metadata": {},
   "outputs": [],
   "source": [
    "Q7. Reverse a while loop to display numbers from 10 to 1."
   ]
  },
  {
   "cell_type": "code",
   "execution_count": 4,
   "id": "caa4e2e2-748b-44d1-bc72-33bee97617e7",
   "metadata": {},
   "outputs": [
    {
     "name": "stdout",
     "output_type": "stream",
     "text": [
      "10\n",
      "9\n",
      "8\n",
      "7\n",
      "6\n",
      "5\n",
      "4\n",
      "3\n",
      "2\n",
      "1\n"
     ]
    }
   ],
   "source": [
    "#Answer\n",
    "i = 10\n",
    "while i > 0:\n",
    "    print(i)\n",
    "    i = i-1"
   ]
  },
  {
   "cell_type": "code",
   "execution_count": null,
   "id": "f0d555b4-ade6-4131-834e-d546f40464d7",
   "metadata": {},
   "outputs": [],
   "source": []
  }
 ],
 "metadata": {
  "kernelspec": {
   "display_name": "Python 3 (ipykernel)",
   "language": "python",
   "name": "python3"
  },
  "language_info": {
   "codemirror_mode": {
    "name": "ipython",
    "version": 3
   },
   "file_extension": ".py",
   "mimetype": "text/x-python",
   "name": "python",
   "nbconvert_exporter": "python",
   "pygments_lexer": "ipython3",
   "version": "3.10.8"
  }
 },
 "nbformat": 4,
 "nbformat_minor": 5
}
