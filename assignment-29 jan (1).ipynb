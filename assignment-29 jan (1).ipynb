{
 "cells": [
  {
   "cell_type": "code",
   "execution_count": null,
   "id": "fa17e893-e59e-4678-a21e-1abbf4db162b",
   "metadata": {},
   "outputs": [],
   "source": [
    "Q1.Who dove loped python Programming Language? "
   ]
  },
  {
   "cell_type": "code",
   "execution_count": 16,
   "id": "326a18b9-565c-45ce-a524-160b044878a6",
   "metadata": {},
   "outputs": [],
   "source": [
    "answer1 = Python was developed by Guido van Rossum"
   ]
  },
  {
   "cell_type": "code",
   "execution_count": null,
   "id": "37b20c98-d35c-49b0-86fb-bf69fa1440b8",
   "metadata": {},
   "outputs": [],
   "source": [
    "Q2.Which type of Programming does python support?"
   ]
  },
  {
   "cell_type": "code",
   "execution_count": 4,
   "id": "12b15dfd-4173-45ef-b734-4c2bd125bf5e",
   "metadata": {},
   "outputs": [],
   "source": [
    "answer2= Object oriented programming and structure programming type program does supported by Python"
   ]
  },
  {
   "cell_type": "code",
   "execution_count": null,
   "id": "aad3fff7-85fa-44ca-90b4-e8b7c868e148",
   "metadata": {},
   "outputs": [],
   "source": [
    "Q3.Is python case sensitive when dealing with identifiers?"
   ]
  },
  {
   "cell_type": "code",
   "execution_count": 5,
   "id": "6186ae5f-f8fa-440e-9fe1-511b1bd60a59",
   "metadata": {},
   "outputs": [],
   "source": [
    "answer3= Yes Python is case sensitive when dealing with identifiers"
   ]
  },
  {
   "cell_type": "code",
   "execution_count": null,
   "id": "a334bf69-218b-449c-87c4-06c7d1ead2ee",
   "metadata": {},
   "outputs": [],
   "source": [
    "Q4.What is the correct extension of the python file?"
   ]
  },
  {
   "cell_type": "code",
   "execution_count": 6,
   "id": "8193c93e-07a1-4d5e-8ce1-4b8d4137fdf8",
   "metadata": {},
   "outputs": [],
   "source": [
    "answer4= .py, .pyc, .pyd, .pyo, pyz thsese are extension of the python file"
   ]
  },
  {
   "cell_type": "code",
   "execution_count": null,
   "id": "0ffc8ca0-50cd-4b1c-81db-3ef1034daf8f",
   "metadata": {},
   "outputs": [],
   "source": [
    "Q5.Is python code compiled or interpreted?"
   ]
  },
  {
   "cell_type": "code",
   "execution_count": 7,
   "id": "0835e4e9-6418-488f-94e1-9514f5f324c0",
   "metadata": {},
   "outputs": [],
   "source": [
    "answer5= Python is an interpreted language"
   ]
  },
  {
   "cell_type": "code",
   "execution_count": null,
   "id": "8eec4439-c809-4f4e-a976-616c86e80cec",
   "metadata": {},
   "outputs": [],
   "source": [
    "Q6. Name a few blocks of code used to define in python language?"
   ]
  },
  {
   "cell_type": "code",
   "execution_count": 8,
   "id": "0add1805-b099-495a-8068-401d1ee995a6",
   "metadata": {},
   "outputs": [],
   "source": [
    "answer6= a module, a function body, and a class defination"
   ]
  },
  {
   "cell_type": "code",
   "execution_count": null,
   "id": "ef4e5bb7-fe00-415f-bddd-a264fd86734c",
   "metadata": {},
   "outputs": [],
   "source": [
    "Q7. State a character used to give single-line comments in python?"
   ]
  },
  {
   "cell_type": "code",
   "execution_count": 9,
   "id": "8c78b5eb-df5b-430f-a4c9-642ece078f21",
   "metadata": {},
   "outputs": [],
   "source": [
    "asnwer7= (\"#\") character is used to give single line comment "
   ]
  },
  {
   "cell_type": "code",
   "execution_count": null,
   "id": "2bec1a53-6e69-46f7-8d8a-744d9922ba53",
   "metadata": {},
   "outputs": [],
   "source": [
    "Q8. Mention functions which can help us to find the version of python that we are currently working on?"
   ]
  },
  {
   "cell_type": "code",
   "execution_count": 11,
   "id": "5c5f768f-491a-4b96-9a28-1418ee948fc9",
   "metadata": {},
   "outputs": [],
   "source": [
    "answer8= using sys. version method, using python_version() method, using python-V command"
   ]
  },
  {
   "cell_type": "code",
   "execution_count": null,
   "id": "42b7aee8-8b62-43ee-ac32-033d30100099",
   "metadata": {},
   "outputs": [],
   "source": [
    "Q9.\tPython supports the creation of anonymous functions at runtime , using a construct called?"
   ]
  },
  {
   "cell_type": "code",
   "execution_count": 12,
   "id": "39664564-9dd5-4e9d-b58d-3da5e4923a79",
   "metadata": {},
   "outputs": [],
   "source": [
    "answer9= lambda"
   ]
  },
  {
   "cell_type": "code",
   "execution_count": null,
   "id": "9301230f-1d02-4a16-9641-0283fcab7e9c",
   "metadata": {},
   "outputs": [],
   "source": [
    "Q10. What does pip stand for python?"
   ]
  },
  {
   "cell_type": "code",
   "execution_count": 13,
   "id": "c339a31c-cd4a-40c9-a74c-25be8452c399",
   "metadata": {},
   "outputs": [],
   "source": [
    "answer10 = The standard package manager for python is pip. It allows, you to install and manage packages that arent part of\n",
    "         the Python standard library\n"
   ]
  },
  {
   "cell_type": "code",
   "execution_count": null,
   "id": "25eb7691-ebf9-4e4e-9383-b9777e673c89",
   "metadata": {},
   "outputs": [],
   "source": [
    "Q11.Mention a few built—in functions In python?"
   ]
  },
  {
   "cell_type": "code",
   "execution_count": 14,
   "id": "964f95c5-63a4-4da1-9cde-1c1b2dbc81e6",
   "metadata": {},
   "outputs": [],
   "source": [
    "answer11= Print() function, type() function, input() function,"
   ]
  },
  {
   "cell_type": "code",
   "execution_count": null,
   "id": "168127a8-96fb-49da-b486-4c542cc5f02f",
   "metadata": {},
   "outputs": [],
   "source": [
    "Q12.What is the maximum possible length of an identifier in Python?"
   ]
  },
  {
   "cell_type": "code",
   "execution_count": 17,
   "id": "f64ebb2b-31e7-4e8b-91d5-14c7436f724f",
   "metadata": {},
   "outputs": [],
   "source": [
    "answer12= An identifier can have maximum length of 79 characters"
   ]
  },
  {
   "cell_type": "code",
   "execution_count": null,
   "id": "319150eb-6130-4a18-af90-417087d431f4",
   "metadata": {},
   "outputs": [],
   "source": [
    "Q13.What are the benefits using Python?"
   ]
  },
  {
   "cell_type": "code",
   "execution_count": 18,
   "id": "7b3db57c-6ce8-476b-86f4-ff4372dc12cc",
   "metadata": {},
   "outputs": [],
   "source": [
    "answer13= Large developer community, Extensive libraries, write less and do more, portability, wide range of cases"
   ]
  },
  {
   "cell_type": "code",
   "execution_count": null,
   "id": "814f8e56-8e22-4182-9b6b-5ada43cf9630",
   "metadata": {},
   "outputs": [],
   "source": [
    "Q14.How is memory managed in Python?"
   ]
  },
  {
   "cell_type": "code",
   "execution_count": 19,
   "id": "5ddf8f69-0e25-4e36-b322-5d4c0ae4da5f",
   "metadata": {},
   "outputs": [],
   "source": [
    "answer14= Memoery management in Python involves a private heap containing all python objects and data structure"
   ]
  },
  {
   "cell_type": "code",
   "execution_count": null,
   "id": "4caed1c3-9343-456f-b6ec-0c881d47d678",
   "metadata": {},
   "outputs": [],
   "source": [
    "Q15.How to Install Python on Windows and set path variables?"
   ]
  },
  {
   "cell_type": "code",
   "execution_count": 20,
   "id": "eb8f42f4-8d0b-48e8-8962-a9f92c1dbdbd",
   "metadata": {},
   "outputs": [],
   "source": [
    "answer15= we can install python from www.python.org After installing python using tge following command on command\n",
    "prompt: cmd_python,Then go to advance system and add new variableand name it as PYTHON_NAME and paste the copied path.Then\n",
    "look for the path variable, select its valvue and select edit add a semicolon towards the end of the value if its not present\n",
    "and then type %PYTHON_HOME%"
   ]
  },
  {
   "cell_type": "code",
   "execution_count": null,
   "id": "c4c5e480-bbfb-4d60-80ea-728cee58515e",
   "metadata": {},
   "outputs": [],
   "source": [
    "Q16.Is indentation required in python?"
   ]
  },
  {
   "cell_type": "code",
   "execution_count": 21,
   "id": "55e08231-b258-41f8-a683-b61a32383eb4",
   "metadata": {},
   "outputs": [],
   "source": [
    "answer16= The indentation in Pythonis very important. Python uses indentation to indentation to indicate a block of code"
   ]
  }
 ],
 "metadata": {
  "kernelspec": {
   "display_name": "Python 3 (ipykernel)",
   "language": "python",
   "name": "python3"
  },
  "language_info": {
   "codemirror_mode": {
    "name": "ipython",
    "version": 3
   },
   "file_extension": ".py",
   "mimetype": "text/x-python",
   "name": "python",
   "nbconvert_exporter": "python",
   "pygments_lexer": "ipython3",
   "version": "3.10.8"
  }
 },
 "nbformat": 4,
 "nbformat_minor": 5
}
